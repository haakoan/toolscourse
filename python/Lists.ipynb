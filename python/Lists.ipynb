{
 "cells": [
  {
   "cell_type": "markdown",
   "id": "ceb3afcf",
   "metadata": {},
   "source": [
    "## **Intro** \n",
    "\n",
    "\n",
    "In this notebook, we will practice the concepts presented in the video about lists, with a particular focus on the method *append*.\n",
    "\n",
    "We recommend you to watch the videos about lists, conditionals and loops, as these concepts will be exploited in this notebook. "
   ]
  },
  {
   "cell_type": "markdown",
   "id": "875dc44d",
   "metadata": {},
   "source": [
    "## **Example:**\n",
    "\n",
    "Here we create a list and explore its properties"
   ]
  },
  {
   "cell_type": "code",
   "execution_count": 2,
   "id": "bc3eec97",
   "metadata": {},
   "outputs": [],
   "source": [
    "random_words = ['Galaxy', 'Velvet', 'Bicycle', 'Lantern', 'Whisper',\n",
    "                'Glacier', 'Puzzle', 'Thunder', 'Jasmine', 'Mirror',\n",
    "                'Falcon', 'Meadow', 'Echo', 'Sapphire', 'Horizon', 'Orbit',\n",
    "                'Timber', 'Ripple', 'Star', 'Comet']"
   ]
  },
  {
   "cell_type": "code",
   "execution_count": 3,
   "id": "29e83b04",
   "metadata": {},
   "outputs": [
    {
     "name": "stdout",
     "output_type": "stream",
     "text": [
      "Words in the list: 20\n",
      "The 5th word of the list is Whisper and has 7 letters \n"
     ]
    }
   ],
   "source": [
    "## How many words in the list?\n",
    "print('Words in the list:', len(random_words)) ## here \"len\" gives the number of item in the list\n",
    "\n",
    "## how many letters in the 5th word of the list?\n",
    "## remember that python index from zero, so 0, 1, 2 ....\n",
    "\n",
    "pos = 5 ##we want the 5th word\n",
    "word = random_words[pos-1] \n",
    "## Acces the 5th item using random_words[4] \n",
    "## due to the index starting from 0\n",
    "num = len(word)\n",
    "print('The {}th word of the list is {} and has {} letters '.format(pos, word, num))\n"
   ]
  },
  {
   "cell_type": "markdown",
   "id": "5c224800",
   "metadata": {},
   "source": [
    "Now, we are interested only in the words with at most 5 letters.\n",
    "To select only those words, we create an empty list and we use the append method in a for loop."
   ]
  },
  {
   "cell_type": "code",
   "execution_count": 27,
   "id": "87466ef8",
   "metadata": {},
   "outputs": [],
   "source": [
    "new_list = [] ## empty list \n",
    "\n",
    "for w in random_words:\n",
    "    ## nested if \n",
    "    if(len(w) <= 5): \n",
    "        new_list.append(w)\n",
    "    "
   ]
  },
  {
   "cell_type": "code",
   "execution_count": 36,
   "id": "72a3ed17",
   "metadata": {},
   "outputs": [
    {
     "name": "stdout",
     "output_type": "stream",
     "text": [
      "the new list has 4 elements\n"
     ]
    }
   ],
   "source": [
    "print(\"the new list has\", len(new_list), \"elements\")\n",
    "##note the different way I used in printing an output from a variable in a text string."
   ]
  },
  {
   "cell_type": "code",
   "execution_count": 37,
   "id": "e09acb91",
   "metadata": {},
   "outputs": [
    {
     "name": "stdout",
     "output_type": "stream",
     "text": [
      "['Echo', 'Orbit', 'Star', 'Comet']\n"
     ]
    }
   ],
   "source": [
    "print(new_list)"
   ]
  },
  {
   "cell_type": "markdown",
   "id": "8f3f20e4",
   "metadata": {},
   "source": [
    "## **Exercise 1:**\n",
    "Describe in words what each line of the code from the previous example does; the code is repeated below. \n",
    "```python\n",
    "new_list = [] \n",
    "\n",
    "for w in random_words:\n",
    "    ## nested if \n",
    "    if(len(w) <= 5): \n",
    "        new_list.append(w)\n",
    "```"
   ]
  },
  {
   "cell_type": "code",
   "execution_count": null,
   "id": "4324a200",
   "metadata": {},
   "outputs": [],
   "source": []
  },
  {
   "cell_type": "markdown",
   "id": "035817cb",
   "metadata": {},
   "source": [
    "## **Exercise 2:**\n",
    "\n",
    "**Create a list of even numbers.**\n",
    "\n",
    "From a list of number ranging from 1 to 50, extract a list containing only even numbers.\n",
    "\n",
    "*Hint:* How to check if a number is even? Check out the mod operator %\n"
   ]
  },
  {
   "cell_type": "code",
   "execution_count": null,
   "id": "26012f70",
   "metadata": {},
   "outputs": [],
   "source": []
  },
  {
   "cell_type": "markdown",
   "id": "8eb31eba",
   "metadata": {},
   "source": [
    "## **Exercise 3:**\n",
    "\n",
    "**Create a list of prime numbers.**\n",
    "\n",
    "From a list of number ranging from 1 to 50, extract a list containing only prime numbers.\n",
    "\n",
    "\n"
   ]
  },
  {
   "cell_type": "code",
   "execution_count": null,
   "id": "70ee51e8",
   "metadata": {},
   "outputs": [],
   "source": []
  }
 ],
 "metadata": {
  "kernelspec": {
   "display_name": "Python 3 (ipykernel)",
   "language": "python",
   "name": "python3"
  },
  "language_info": {
   "codemirror_mode": {
    "name": "ipython",
    "version": 3
   },
   "file_extension": ".py",
   "mimetype": "text/x-python",
   "name": "python",
   "nbconvert_exporter": "python",
   "pygments_lexer": "ipython3",
   "version": "3.9.0"
  }
 },
 "nbformat": 4,
 "nbformat_minor": 5
}
