{
 "cells": [
  {
   "cell_type": "markdown",
   "id": "76d0dde3",
   "metadata": {},
   "source": [
    "## **Exercise 1: solution**\n",
    "\n",
    "```python\n",
    "new_list = []\n",
    "```\n",
    "- **Description**: This line initializes an empty list called `new_list`. \n",
    "\n",
    "```python\n",
    "for w in random_words:\n",
    "```\n",
    "- **Description**: This line starts a `for` loop, where each word (referred to as `w`) from the list `random_words` is processed one at a time. The loop will iterate over each word in `random_words`.\n",
    "\n",
    "```python\n",
    "    ## nested if\n",
    "    if(len(w) <= 5):\n",
    "```\n",
    "- **Description**: This line checks if the length of the current word `w` is less than or equal to 5 characters. The `len(w)` function returns the number of characters in the word `w`. If the word length is 5 or fewer, the code inside the `if` block will be executed.\n",
    "\n",
    "```python\n",
    "        new_list.append(w)\n",
    "```\n",
    "- **Description**: If the condition in the `if` statement is true (the word has 5 or fewer characters), this line appends (adds) the word `w` to the `new_list`. This means that words that pass the condition are collected in the `new_list`.\n",
    "\n",
    "---\n",
    "\n",
    "### Summary:\n",
    "- The code initializes an empty list `new_list`.\n",
    "- It loops through the list `random_words`, and for each word, it checks if the word has 5 or fewer characters.\n",
    "- If the word meets this condition, it gets added to `new_list`. After the loop, `new_list` will contain only the words from `random_words` that have a length of 5 or fewer characters."
   ]
  },
  {
   "cell_type": "markdown",
   "id": "c7818a87",
   "metadata": {},
   "source": [
    "## **Exercise 2: solution**"
   ]
  },
  {
   "cell_type": "code",
   "execution_count": 7,
   "id": "10bfc677",
   "metadata": {},
   "outputs": [],
   "source": [
    "## list of number from 1 to 50\n",
    "n = 50\n",
    "numbers = list(range(1,n+1))"
   ]
  },
  {
   "cell_type": "code",
   "execution_count": 9,
   "id": "5030f9eb",
   "metadata": {},
   "outputs": [],
   "source": [
    "even_num = []\n",
    "\n",
    "for num in numbers:\n",
    "    \n",
    "    if(num%2 == 0): ##the number is even\n",
    "        even_num.append(num)\n",
    "    "
   ]
  },
  {
   "cell_type": "code",
   "execution_count": 12,
   "id": "5be74086",
   "metadata": {},
   "outputs": [
    {
     "data": {
      "text/plain": [
       "25"
      ]
     },
     "execution_count": 12,
     "metadata": {},
     "output_type": "execute_result"
    }
   ],
   "source": [
    "print((len(even_num)))"
   ]
  },
  {
   "cell_type": "code",
   "execution_count": 13,
   "id": "fbe6f900",
   "metadata": {
    "scrolled": true
   },
   "outputs": [
    {
     "data": {
      "text/plain": [
       "[2,\n",
       " 4,\n",
       " 6,\n",
       " 8,\n",
       " 10,\n",
       " 12,\n",
       " 14,\n",
       " 16,\n",
       " 18,\n",
       " 20,\n",
       " 22,\n",
       " 24,\n",
       " 26,\n",
       " 28,\n",
       " 30,\n",
       " 32,\n",
       " 34,\n",
       " 36,\n",
       " 38,\n",
       " 40,\n",
       " 42,\n",
       " 44,\n",
       " 46,\n",
       " 48,\n",
       " 50]"
      ]
     },
     "execution_count": 13,
     "metadata": {},
     "output_type": "execute_result"
    }
   ],
   "source": [
    "even_num"
   ]
  },
  {
   "cell_type": "markdown",
   "id": "fbdb8fe5",
   "metadata": {},
   "source": [
    "## **Exercise 3: solution**"
   ]
  },
  {
   "cell_type": "code",
   "execution_count": 14,
   "id": "d30b79f4",
   "metadata": {},
   "outputs": [],
   "source": [
    "## list of number from 1 to 50\n",
    "n = 50\n",
    "numbers = list(range(1,n+1))"
   ]
  },
  {
   "cell_type": "code",
   "execution_count": 48,
   "id": "48a4f69d",
   "metadata": {},
   "outputs": [],
   "source": [
    "prime_num = []\n",
    "\n",
    "for num in numbers:\n",
    "    \n",
    "    if(num == 1):\n",
    "        continue   ##what is this? this operation just gets you out from the iteration\n",
    "                   ## 1 is not prime by definition \n",
    "    \n",
    "    if(num == 2 or num ==3):\n",
    "        prime_num.append(num)\n",
    "        continue\n",
    "    \n",
    "    ## let's use a nested for loop\n",
    "    \n",
    "    control = True\n",
    "    \n",
    "    for i in range(2, int(num**(0.5)+2)):    #int(num**(0.5)+2) --> think about why \n",
    "            \n",
    "        \n",
    "        if(num % i == 0):\n",
    "            control = False\n",
    "        \n",
    "    if control:   ##if the variable is a boolean, this means the same as if(control == True)\n",
    "        prime_num.append(num)\n",
    "    \n",
    "    \n",
    "    \n",
    "\n",
    "\n",
    "\n"
   ]
  },
  {
   "cell_type": "code",
   "execution_count": 47,
   "id": "79b7a5e1",
   "metadata": {},
   "outputs": [
    {
     "data": {
      "text/plain": [
       "[2, 3, 5, 7, 11, 13, 17, 19, 23, 29, 31, 37, 41, 43, 47]"
      ]
     },
     "execution_count": 47,
     "metadata": {},
     "output_type": "execute_result"
    }
   ],
   "source": [
    "prime_num    #[2, 3, 5, 7,11, 13, 17, 19, 23, 29, 31, 37, 41, 43, 47]"
   ]
  },
  {
   "cell_type": "code",
   "execution_count": null,
   "id": "2710c74f",
   "metadata": {},
   "outputs": [],
   "source": []
  },
  {
   "cell_type": "code",
   "execution_count": null,
   "id": "a75ad155",
   "metadata": {},
   "outputs": [],
   "source": []
  }
 ],
 "metadata": {
  "kernelspec": {
   "display_name": "Python 3 (ipykernel)",
   "language": "python",
   "name": "python3"
  },
  "language_info": {
   "codemirror_mode": {
    "name": "ipython",
    "version": 3
   },
   "file_extension": ".py",
   "mimetype": "text/x-python",
   "name": "python",
   "nbconvert_exporter": "python",
   "pygments_lexer": "ipython3",
   "version": "3.9.0"
  }
 },
 "nbformat": 4,
 "nbformat_minor": 5
}
