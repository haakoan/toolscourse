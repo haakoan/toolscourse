{
 "cells": [
  {
   "cell_type": "code",
   "execution_count": 1,
   "id": "57403ca1",
   "metadata": {},
   "outputs": [],
   "source": [
    "## define three integer variables\n",
    "num1 = 11\n",
    "num2 = -3\n",
    "num3 = -7"
   ]
  },
  {
   "cell_type": "code",
   "execution_count": 2,
   "id": "014ab26f",
   "metadata": {},
   "outputs": [],
   "source": [
    "## 1: sign of the product\n",
    "\n",
    "## null outcome\n",
    "if (num1 == 0 or num2 == 0 or num3 == 0):\n",
    "    outcome = 'null'   ## we define a new var \n",
    "\n",
    "## positive outcome, we use elif \n",
    "elif(num1 > 0 and num2 > 0 and num3 > 0) or (num1 < 0 and num2 < 0 and num3 < 0):\n",
    "    outcome = 'positive'\n",
    "else:\n",
    "    outcome = 'negative'"
   ]
  },
  {
   "cell_type": "code",
   "execution_count": 3,
   "id": "1fd4903f",
   "metadata": {},
   "outputs": [
    {
     "name": "stdout",
     "output_type": "stream",
     "text": [
      "The product of the three numbers is: negative\n"
     ]
    }
   ],
   "source": [
    "print('The product of the three numbers is:', outcome)"
   ]
  },
  {
   "cell_type": "code",
   "execution_count": 4,
   "id": "8ae1cdfe",
   "metadata": {},
   "outputs": [],
   "source": [
    "## 2: Check if at least one number is even"
   ]
  },
  {
   "cell_type": "code",
   "execution_count": 5,
   "id": "c00d30b4",
   "metadata": {},
   "outputs": [],
   "source": [
    "## we define a boolean var and we inizialize is as false\n",
    "## this means that none of the numbers is even\n",
    "even_check = False\n",
    "\n",
    "condition = (num1 % 2 == 0 or num2 % 2 == 0 or num3 % 2 == 0) ##this var is true if there is at least one even number\n",
    "\n",
    "\n",
    "if condition:\n",
    "    ## if condition == True --> there is at least one even number --> we change the value of the check from False to True\n",
    "    even_check = True \n",
    "    "
   ]
  },
  {
   "cell_type": "code",
   "execution_count": 6,
   "id": "7b3190da",
   "metadata": {},
   "outputs": [
    {
     "data": {
      "text/plain": [
       "False"
      ]
     },
     "execution_count": 6,
     "metadata": {},
     "output_type": "execute_result"
    }
   ],
   "source": [
    "even_check"
   ]
  },
  {
   "cell_type": "code",
   "execution_count": 7,
   "id": "75ec687a",
   "metadata": {},
   "outputs": [
    {
     "name": "stdout",
     "output_type": "stream",
     "text": [
      "At least one number is even: False\n"
     ]
    }
   ],
   "source": [
    "print('At least one number is even:', even_check)"
   ]
  },
  {
   "cell_type": "code",
   "execution_count": 8,
   "id": "8673622a",
   "metadata": {},
   "outputs": [],
   "source": [
    "## 3: All numbers have the same sign\n",
    "\n",
    "sign_check = False\n",
    "\n",
    "sign = (num1 > 0 and num2 > 0 and num3 > 0) or (num1 < 0 and num2 < 0 and num3 < 0)\n",
    "\n",
    "if sign:\n",
    "    sign_check = True\n"
   ]
  },
  {
   "cell_type": "code",
   "execution_count": 9,
   "id": "69a505de",
   "metadata": {},
   "outputs": [
    {
     "name": "stdout",
     "output_type": "stream",
     "text": [
      "All numbers have the same sign: False\n"
     ]
    }
   ],
   "source": [
    "print('All numbers have the same sign:', sign_check)"
   ]
  },
  {
   "cell_type": "code",
   "execution_count": null,
   "id": "9b857f19",
   "metadata": {},
   "outputs": [],
   "source": []
  }
 ],
 "metadata": {
  "kernelspec": {
   "display_name": "Python 3 (ipykernel)",
   "language": "python",
   "name": "python3"
  },
  "language_info": {
   "codemirror_mode": {
    "name": "ipython",
    "version": 3
   },
   "file_extension": ".py",
   "mimetype": "text/x-python",
   "name": "python",
   "nbconvert_exporter": "python",
   "pygments_lexer": "ipython3",
   "version": "3.9.0"
  }
 },
 "nbformat": 4,
 "nbformat_minor": 5
}
