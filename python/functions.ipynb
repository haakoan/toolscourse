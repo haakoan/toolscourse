{
 "cells": [
  {
   "cell_type": "markdown",
   "id": "e2e2b6fa",
   "metadata": {},
   "source": [
    "## Functions\n",
    "\n",
    "In general, a function takes one or more inputs, processes these inputs through a set of instructions, and then produces an output. The inputs passed to the function are called arguments. After completing the necessary computations or tasks, the function can return a result, which can be used elsewhere in the program."
   ]
  },
  {
   "cell_type": "markdown",
   "id": "e07ff056",
   "metadata": {},
   "source": [
    "### **Defining a function**\n",
    "\n",
    "```python\n",
    "def name_of_the_function(arg1, arg2, ..., argn):\n",
    "    ## 'n' can be any non-negative integer, indicating the number of arguments (0, 1, 2, ...)\n",
    "    # Code block with a sequence of tasks and instructions\n",
    "    ...\n",
    "    ... \n",
    "    ...\n",
    "    ...\n",
    "    \n",
    "    return XXX ## XXX can be:\n",
    "               ## - Nothing (for functions that don't return a value)\n",
    "               ## - A single value or multiple values\n",
    "               ## - Data structures like lists, tuples, dictionaries, etc.\n",
    "               ## - Other functions or complex objects\n",
    "```\n",
    "\n",
    "This block of code is the template for defining a function. A function in Python is a reusable block of code that performs a specific task. You can pass data into the function (through *arguments*) and get an output (using *return*). The function can handle different types of data, such as numbers, strings, or more complex structures (like lists or dictionaries).\n",
    "\n",
    "**Key elements in the function definition:**\n",
    "\n",
    "- `def`: This keyword tells Python that you're about to define a function.\n",
    "- `name_of_the_function`: This is the name you choose for your function, which should be descriptive of what the function does.\n",
    "- `arg1, arg2, ..., argn`: These represent the parameters (inputs) the function takes. You can have as many arguments as needed, including none.\n",
    "- The indented code inside the function (under the `def` line) contains the instructions or tasks the function will perform.\n",
    "- `return`: This keyword specifies what the function will give back as a result. It can return:\n",
    "  - No value (if you don't specify a return value),\n",
    "  - A single value (such as a number or string),\n",
    "  - Multiple values (like a tuple),\n",
    "  - Complex objects (like lists, dictionaries, or even other functions).\n",
    "\n",
    "---\n",
    "\n",
    "### **Example of using a function**\n",
    "\n",
    "```python\n",
    "# If the function returns a value:\n",
    "var = name_of_the_function(arg1, arg2, ...)  # The output of the function is assigned to a variable\n",
    "\n",
    "# If the function returns multiple values:\n",
    "var1, var2 = name_of_the_function(arg1, arg2, ...)  # The output can be unpacked into multiple variables\n",
    "```\n",
    "\n",
    "**Explanation of the example:**\n",
    "\n",
    "- **Calling the function:**\n",
    "  To use the function you defined, you call it by writing its name followed by parentheses. Inside the parentheses, you pass the required arguments (inputs).\n",
    "  \n",
    "- **Storing the result:**\n",
    "  If the function returns a value (e.g., a number, a string, or another object), you can capture it by assigning the function call to a variable. For instance, `var = name_of_the_function(arg1, arg2)` stores the output of the function into `var`.\n",
    "\n",
    "- **Returning multiple values:**\n",
    "  Some functions return more than one value. In this case, you can assign the results to multiple variables by separating them with commas. For example, `var1, var2 = name_of_the_function(arg1, arg2)` will store the first returned value in `var1` and the second in `var2`."
   ]
  },
  {
   "cell_type": "markdown",
   "id": "7b7d2bba",
   "metadata": {},
   "source": [
    "### Various types of functions"
   ]
  },
  {
   "cell_type": "markdown",
   "id": "a51648c9",
   "metadata": {},
   "source": [
    "#### Built-in functions\n",
    "\n",
    "Operations like ``print()``, ``type()``, ``len()`` are predefined built-in functions."
   ]
  },
  {
   "cell_type": "code",
   "execution_count": 5,
   "id": "c70b8a03",
   "metadata": {},
   "outputs": [
    {
     "name": "stdout",
     "output_type": "stream",
     "text": [
      "Hello, world\n",
      "The number is: 5\n"
     ]
    }
   ],
   "source": [
    "## print \n",
    "   \n",
    "    ## input: strings and variables\n",
    "    ## output: print the whole input to the screen\n",
    "\n",
    "## usage\n",
    "print(\"Hello, world\")\n",
    "num = 5\n",
    "print(\"The number is:\", num)"
   ]
  },
  {
   "cell_type": "code",
   "execution_count": 7,
   "id": "9bd60af4",
   "metadata": {},
   "outputs": [
    {
     "name": "stdout",
     "output_type": "stream",
     "text": [
      "the output of len is 4\n"
     ]
    }
   ],
   "source": [
    "## len\n",
    "\n",
    "    ## input: array, list, string\n",
    "    ## output: length\n",
    "\n",
    "short_list = [1,2,3,4]\n",
    "len(short_list)\n",
    "\n",
    "print(\"the output of len is\",len(short_list))"
   ]
  },
  {
   "cell_type": "markdown",
   "id": "c7e35a2c",
   "metadata": {},
   "source": [
    "#### User-defined functions"
   ]
  },
  {
   "cell_type": "code",
   "execution_count": 4,
   "id": "49ce6fda",
   "metadata": {},
   "outputs": [
    {
     "name": "stdout",
     "output_type": "stream",
     "text": [
      "8\n"
     ]
    }
   ],
   "source": [
    "## Example 1: Sum of Two Numbers\n",
    "\n",
    "### Problem Statement:\n",
    "#- **Input**: Two numbers\n",
    "#- **Output**: Sum of the two numbers\n",
    "\n",
    "### Function Definition:\n",
    "\n",
    "def sum_func(x, y):\n",
    "    s = x + y  # The variable 's' stores the sum of the two input numbers\n",
    "    return s   # The function returns the sum, which can be used elsewhere in the code\n",
    "\n",
    "num1 = 3  # The first number is assigned to the variable 'num1'\n",
    "num2 = 5  # The second number is assigned to the variable 'num2'\n",
    "\n",
    "# We call the function 'sum_func' with 'num1' and 'num2' as inputs\n",
    "final_num = sum_func(num1, num2)\n",
    "\n",
    "# This prints the final sum, which should be 8\n",
    "print(final_num)"
   ]
  },
  {
   "cell_type": "code",
   "execution_count": 10,
   "id": "47e0afa7",
   "metadata": {},
   "outputs": [
    {
     "name": "stdout",
     "output_type": "stream",
     "text": [
      "Hello, Alex\n"
     ]
    }
   ],
   "source": [
    "## example 2: Greet a person by their name\n",
    "        ## input: a name (string variable)\n",
    "        ## output: print \"Hello, name\"\n",
    "        \n",
    "## definition\n",
    "def greet(name):\n",
    "    \n",
    "    print(\"Hello,\", name)\n",
    "    return ##notice that there is no return value\n",
    "\n",
    "## usage\n",
    "name_user = 'Alex'\n",
    "greet(name_user)"
   ]
  },
  {
   "cell_type": "markdown",
   "id": "43948950",
   "metadata": {},
   "source": [
    "### Lambda Functions in Python (Advanced)\n",
    "\n",
    "Lambda functions are small and anonymous functions that can have any number of input arguments but are restricted to only one expression. They are often used for short, simple operations where defining a full function would be unnecessary.\n",
    "\n",
    "- Anonymous: They do not have a name like a regular function (defined with def).\n",
    "- Single expression: The entire function is written in one line and can only contain one expression.\n",
    "- Quick and simple: They are useful when you need a small function for a short period of time, such as within another function or when working with lists or other data structures."
   ]
  },
  {
   "cell_type": "code",
   "execution_count": 7,
   "id": "c392d25d",
   "metadata": {},
   "outputs": [
    {
     "name": "stdout",
     "output_type": "stream",
     "text": [
      "25\n"
     ]
    }
   ],
   "source": [
    "## definition\n",
    "\n",
    "square = lambda x : x**2 # x is the function input\n",
    "                         # the expression comes after :   \n",
    "\n",
    "## usage\n",
    "a = square(5)\n",
    "print(a)"
   ]
  },
  {
   "cell_type": "markdown",
   "id": "56f1bec1",
   "metadata": {},
   "source": [
    "### Recursive functions"
   ]
  },
  {
   "cell_type": "markdown",
   "id": "f927fae7",
   "metadata": {},
   "source": [
    "**Example: factorial calculation**"
   ]
  },
  {
   "cell_type": "code",
   "execution_count": 16,
   "id": "a32d1fba",
   "metadata": {},
   "outputs": [
    {
     "name": "stdout",
     "output_type": "stream",
     "text": [
      "120\n"
     ]
    }
   ],
   "source": [
    "def factorial(n):\n",
    "    \n",
    "    if(n==1): \n",
    "        return 1 \n",
    "    else:\n",
    "        return n*factorial(n-1) ## here is the recursivity\n",
    "\n",
    "##usage\n",
    "print(factorial(5))"
   ]
  },
  {
   "cell_type": "markdown",
   "id": "4c8205a1",
   "metadata": {},
   "source": [
    "## Exercise 1\n",
    "\n",
    "Define two functions to convert temperatures between Celsius and Fahrenheit. \n",
    "See https://en.wikipedia.org/wiki/Fahrenheit"
   ]
  },
  {
   "cell_type": "code",
   "execution_count": null,
   "id": "5f485a99",
   "metadata": {},
   "outputs": [],
   "source": []
  },
  {
   "cell_type": "markdown",
   "id": "e26f7e6f",
   "metadata": {},
   "source": [
    "## Exercise 2\n",
    "\n",
    "Define a function that return the sum of the first n numbers. \n",
    "*hint*: you may use a recursive function. \n",
    "\n",
    "\n",
    "Add also a step to check that the given input is an integer number.\n",
    "```python\n",
    " # Check if n is an integer\n",
    "    if not isinstance(n, int):\n",
    "        raise TypeError(\"Input must be an integer\")\n",
    "    \n",
    "    # Check if n is a non-negative integer\n",
    "    if n < 0:\n",
    "        raise ValueError(\"Input must be a non-negative integer\")\n",
    "\n",
    "\n",
    "\n",
    "```"
   ]
  },
  {
   "cell_type": "code",
   "execution_count": null,
   "id": "c0ef4c0d",
   "metadata": {},
   "outputs": [],
   "source": []
  },
  {
   "cell_type": "markdown",
   "id": "1cb0cc98",
   "metadata": {},
   "source": [
    "## Exercise 3 \n",
    "Calculate Area and Perimeter of a Rectangle\n",
    "\n",
    "\n",
    "- Define a function calculate_area(length, width) that calculates and returns the area of a rectangle.\n",
    "- Define another function calculate_perimeter(length, width) that calculates and returns the perimeter of a rectangle.\n",
    "- Use the functions to calculate and print both the area and the perimeter of the rectangle, with sides 5 and 13"
   ]
  },
  {
   "cell_type": "code",
   "execution_count": null,
   "id": "ab98cac7",
   "metadata": {},
   "outputs": [],
   "source": []
  }
 ],
 "metadata": {
  "kernelspec": {
   "display_name": "Python 3 (ipykernel)",
   "language": "python",
   "name": "python3"
  },
  "language_info": {
   "codemirror_mode": {
    "name": "ipython",
    "version": 3
   },
   "file_extension": ".py",
   "mimetype": "text/x-python",
   "name": "python",
   "nbconvert_exporter": "python",
   "pygments_lexer": "ipython3",
   "version": "3.9.0"
  }
 },
 "nbformat": 4,
 "nbformat_minor": 5
}
