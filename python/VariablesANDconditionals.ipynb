{
 "cells": [
  {
   "cell_type": "markdown",
   "id": "87ce7dff",
   "metadata": {},
   "source": [
    "## **Intro**\n",
    "\n",
    "The goal of this notebook is to practice the basic concepts related to variables, as well as the logical and conditional operations that can be used to connect and manipulate them.\n",
    "Watch the videos related to ifs, conditional statements and boolean logic"
   ]
  },
  {
   "cell_type": "markdown",
   "id": "68aad40c",
   "metadata": {},
   "source": [
    "**Example:** \n",
    "\n",
    "Determine whether the results of a multiplication is positive or negative based on the sing of the factors. "
   ]
  },
  {
   "cell_type": "code",
   "execution_count": 2,
   "id": "326ff5c5",
   "metadata": {},
   "outputs": [],
   "source": [
    "## let's define the variable for the two factors\n",
    "\n",
    "fac1 = 12  \n",
    "fac2 = -4"
   ]
  },
  {
   "cell_type": "markdown",
   "id": "6368f904",
   "metadata": {},
   "source": [
    "In python, variables are dynamically type. This means that you can reassign a variable to a different data type. \n",
    "\n",
    "We can get information on the type of the variables with the command ``type``."
   ]
  },
  {
   "cell_type": "code",
   "execution_count": 5,
   "id": "ef28a529",
   "metadata": {},
   "outputs": [
    {
     "name": "stdout",
     "output_type": "stream",
     "text": [
      "<class 'int'>\n",
      "<class 'int'>\n"
     ]
    }
   ],
   "source": [
    "print(type(fac1))\n",
    "print(type(fac2))"
   ]
  },
  {
   "cell_type": "code",
   "execution_count": 6,
   "id": "aaeb8a78",
   "metadata": {},
   "outputs": [
    {
     "name": "stdout",
     "output_type": "stream",
     "text": [
      "<class 'str'>\n",
      "<class 'float'>\n"
     ]
    }
   ],
   "source": [
    "## if we re-assign the variables to different types...\n",
    "fac1 = 'hello'\n",
    "fac2 = 13.8\n",
    "##\n",
    "print(type(fac1))\n",
    "print(type(fac2))"
   ]
  },
  {
   "cell_type": "markdown",
   "id": "3d80db67",
   "metadata": {},
   "source": [
    "The type of each of the two variable changed!"
   ]
  },
  {
   "cell_type": "code",
   "execution_count": 7,
   "id": "b90d559d",
   "metadata": {},
   "outputs": [],
   "source": [
    "fac1 = 12  \n",
    "fac2 = -4"
   ]
  },
  {
   "cell_type": "markdown",
   "id": "3496799f",
   "metadata": {},
   "source": [
    "**Boolean variables**\n",
    "\n",
    "A boolean variable has only two possible values. In python, those values are **True** and **False**.\n",
    "\n",
    "```python\n",
    "bool_var = True\n",
    "\n",
    "if(bool_var == True):\n",
    "    print('var is true')\n",
    "else:   \n",
    "    print('var is false')\n",
    "\n",
    "\n",
    "```\n",
    "\n",
    "When using conditional operators, one can also omit the use of *== True* when checking if a boolean variable is assigned as *True*. The following example is exactly the same as the one above.\n",
    "\n",
    "```python\n",
    "bool_var = True\n",
    "\n",
    "if bool_var:\n",
    "    print('var is true')\n",
    "else:   \n",
    "    print('var is false')\n",
    "\n",
    "\n",
    "```\n",
    "\n"
   ]
  },
  {
   "cell_type": "markdown",
   "id": "8e788fae",
   "metadata": {},
   "source": [
    "#### Logical operators: \n",
    "\n",
    "**and**\n",
    "\n",
    "**or**\n",
    "\n",
    "**not**"
   ]
  },
  {
   "cell_type": "markdown",
   "id": "349d5199",
   "metadata": {},
   "source": [
    "If x and y are the operands, the truth table of these python logical operators is the following:\n",
    "\n",
    "|x|y|x and y|x or y|not x|not y|\n",
    "|---|---|---|---|---|---|\n",
    "|T|T|T|T|F|F|\n",
    "|T|F|F|T|F|T|\n",
    "|F|T|F|T|T|F|\n",
    "|F|F|F|F|T|T|"
   ]
  },
  {
   "cell_type": "markdown",
   "id": "c6080736",
   "metadata": {},
   "source": [
    "**How can we translate this table to our example?**\n",
    "\n",
    "*The outcome of a multiplication is positive if:*\n",
    "\n",
    "BOTH fac1 and fac2 are POSITIVE\n",
    "\n",
    "BOTH fac1 and fac2 are NEGATIVE\n",
    "\n",
    "*The outcome of a multiplication is negative if:*\n",
    "\n",
    "One factor is positive and one is negative"
   ]
  },
  {
   "cell_type": "code",
   "execution_count": 11,
   "id": "384853ca",
   "metadata": {},
   "outputs": [
    {
     "name": "stdout",
     "output_type": "stream",
     "text": [
      "True\n",
      "True\n",
      "Both the two operands are true\n"
     ]
    }
   ],
   "source": [
    "## example \n",
    "\n",
    "print(fac1>0)\n",
    "print(fac2<0)\n",
    "\n",
    "if(fac1>0 and fac2<0):\n",
    "    print('Both the two operands are true')"
   ]
  },
  {
   "cell_type": "markdown",
   "id": "97933f1d",
   "metadata": {},
   "source": [
    "In this case, fac1=12 and therefore the operations fac1>0 returns true. fac2 = -4 and therefore the operations fac2<0. Consequently, in the *if* conditional the operator *and* return True. \n",
    "\n",
    "With these concepts in mind, let's now solve the exercise."
   ]
  },
  {
   "cell_type": "code",
   "execution_count": 17,
   "id": "ff05118c",
   "metadata": {},
   "outputs": [
    {
     "name": "stdout",
     "output_type": "stream",
     "text": [
      "POSITIVE\n"
     ]
    }
   ],
   "source": [
    "fac1 = -12\n",
    "fac2 = -7\n",
    "\n",
    "if((fac1>0 and fac2>0)or(fac1<0 and fac2<0)):\n",
    "    print(\"POSITIVE\")\n",
    "else:\n",
    "    print(\"NEGATIVE\")"
   ]
  },
  {
   "cell_type": "markdown",
   "id": "f0e21ce4",
   "metadata": {},
   "source": [
    "## **Quick exercise** \n",
    "\n",
    "Fix the code to handle the case where one of the factors (or both) is 0."
   ]
  },
  {
   "cell_type": "code",
   "execution_count": null,
   "id": "f3decca3",
   "metadata": {},
   "outputs": [],
   "source": []
  },
  {
   "cell_type": "markdown",
   "id": "36f4ac41",
   "metadata": {},
   "source": [
    "## **Exercise**"
   ]
  },
  {
   "cell_type": "markdown",
   "id": "5b49ad66",
   "metadata": {},
   "source": [
    "Define three integer variables: *num1, num2, num3* and give them the following values: 11, -3, -7\n",
    "\n",
    "Use logical conditions and operators to *determine* and *print* if:\n",
    "\n",
    "1. The product of all three numbers is positive, negative or zero.\n",
    "2. At least one number is even.\n",
    "3. All three numbers are either positive or negative"
   ]
  },
  {
   "cell_type": "code",
   "execution_count": null,
   "id": "fce488a6",
   "metadata": {},
   "outputs": [],
   "source": []
  }
 ],
 "metadata": {
  "kernelspec": {
   "display_name": "Python 3 (ipykernel)",
   "language": "python",
   "name": "python3"
  },
  "language_info": {
   "codemirror_mode": {
    "name": "ipython",
    "version": 3
   },
   "file_extension": ".py",
   "mimetype": "text/x-python",
   "name": "python",
   "nbconvert_exporter": "python",
   "pygments_lexer": "ipython3",
   "version": "3.9.0"
  }
 },
 "nbformat": 4,
 "nbformat_minor": 5
}
