{
 "cells": [
  {
   "cell_type": "code",
   "execution_count": null,
   "id": "2e710b03",
   "metadata": {},
   "outputs": [],
   "source": [
    "def celsius_to_fahrenheit(celsius):\n",
    "    return (celsius * 1.8) + 32\n",
    "\n",
    "def fahrenheit_to_celsius(fahrenheit):\n",
    "    return (fahrenheit - 32) / 1.8\n"
   ]
  },
  {
   "cell_type": "code",
   "execution_count": null,
   "id": "abd4c9ae",
   "metadata": {},
   "outputs": [],
   "source": [
    "def sum_n(n):\n",
    "    \n",
    "    # Check if n is an integer\n",
    "    if not isinstance(n, int):\n",
    "        raise TypeError(\"Input must be an integer\")\n",
    "    \n",
    "    # Check if n is a non-negative integer\n",
    "    if n < 0:\n",
    "        raise ValueError(\"Input must be a non-negative integer\")\n",
    "        \n",
    "    \n",
    "    if(n == 0):\n",
    "        return 0\n",
    "    else:\n",
    "        return n+sum_n(n-1)\n",
    "        "
   ]
  },
  {
   "cell_type": "code",
   "execution_count": 1,
   "id": "697e65e7",
   "metadata": {},
   "outputs": [],
   "source": [
    "def calculate_area(length, width):\n",
    "    return length * width\n",
    "\n",
    "def calculate_perimeter(length, width):\n",
    "    return 2 * (length + width)\n"
   ]
  },
  {
   "cell_type": "code",
   "execution_count": null,
   "id": "0b6c8738",
   "metadata": {},
   "outputs": [],
   "source": []
  }
 ],
 "metadata": {
  "kernelspec": {
   "display_name": "Python 3 (ipykernel)",
   "language": "python",
   "name": "python3"
  },
  "language_info": {
   "codemirror_mode": {
    "name": "ipython",
    "version": 3
   },
   "file_extension": ".py",
   "mimetype": "text/x-python",
   "name": "python",
   "nbconvert_exporter": "python",
   "pygments_lexer": "ipython3",
   "version": "3.9.0"
  }
 },
 "nbformat": 4,
 "nbformat_minor": 5
}
