{
 "cells": [
  {
   "cell_type": "code",
   "execution_count": 4,
   "id": "bb08a998",
   "metadata": {},
   "outputs": [],
   "source": [
    "filename = 'catalog.csv'\n",
    "\n",
    "##let's open the file and read its lines\n",
    "\n",
    "with open(filename, 'r') as file:\n",
    "    data = file.readlines()\n",
    "## we can skip the first 6 rows by slicing the list data\n",
    "\n",
    "header_rows = 6\n",
    "data_sliced = data[header_rows:]   \n",
    "#print(data_sliced)\n",
    "\n",
    "## we define variables according to the header labels\n",
    "\n",
    "x = []\n",
    "y = []\n",
    "area = []\n",
    "radius = []\n",
    "flux = []\n",
    "flag = []\n",
    "\n",
    "\n",
    "for line in data_sliced:\n",
    "    \n",
    "    x.append(float((line.split(','))[0]))\n",
    "    y.append(float((line.split(','))[1]))\n",
    "    area.append(float((line.split(','))[2]))\n",
    "    radius.append(float((line.split(','))[3]))\n",
    "    flux.append(float((line.split(','))[4]))\n",
    "    flag.append(int((line.split(','))[5]))  ## the flag is 1, 2, 3 so it's better to use int\n"
   ]
  },
  {
   "cell_type": "code",
   "execution_count": 7,
   "id": "5d31d16e",
   "metadata": {},
   "outputs": [],
   "source": [
    "explanatory_header = [\"Alex Pedrini\", \"2024-06-06\", \n",
    "                      \"The astronomer's digital toolbox course\", \"pix,pix\"]"
   ]
  },
  {
   "cell_type": "code",
   "execution_count": 16,
   "id": "6cf8dc65",
   "metadata": {},
   "outputs": [],
   "source": [
    "outname = 'solution.out'\n",
    "\n",
    "\n",
    "\n",
    "with open(outname, 'w') as file:\n",
    "    for line in explanatory_header:\n",
    "        file.write(f\"# {line}\\n\")  ## adding the header. \\n starts a new line\n",
    "    \n",
    "    ## write the label of each column\n",
    "    file.write('x_cen,y_cen\\n')\n",
    "    \n",
    "    for i in range(len(x)):\n",
    "        file.write(str(x[i]))\n",
    "        file.write(\",\")\n",
    "        file.write(str(y[i]))\n",
    "        file.write(\"\\n\")\n",
    "    "
   ]
  },
  {
   "cell_type": "code",
   "execution_count": null,
   "id": "64d2e4ba",
   "metadata": {},
   "outputs": [],
   "source": []
  }
 ],
 "metadata": {
  "kernelspec": {
   "display_name": "Python 3 (ipykernel)",
   "language": "python",
   "name": "python3"
  },
  "language_info": {
   "codemirror_mode": {
    "name": "ipython",
    "version": 3
   },
   "file_extension": ".py",
   "mimetype": "text/x-python",
   "name": "python",
   "nbconvert_exporter": "python",
   "pygments_lexer": "ipython3",
   "version": "3.9.0"
  }
 },
 "nbformat": 4,
 "nbformat_minor": 5
}
